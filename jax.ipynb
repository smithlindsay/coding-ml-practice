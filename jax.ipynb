{
 "cells": [
  {
   "cell_type": "code",
   "execution_count": 1,
   "id": "df86a58f-7cc5-4a12-970d-c933e635ee28",
   "metadata": {},
   "outputs": [],
   "source": [
    "%load_ext autoreload"
   ]
  },
  {
   "cell_type": "code",
   "execution_count": 4,
   "id": "b6ecaa8b-555c-43fb-af6d-9d1bf4a1ade9",
   "metadata": {},
   "outputs": [],
   "source": [
    "%autoreload 2\n",
    "import jax\n",
    "import jax.numpy as jnp\n",
    "import numpy as np\n",
    "\n",
    "import random\n",
    "import itertools\n",
    "from __future__ import print_function"
   ]
  },
  {
   "cell_type": "code",
   "execution_count": 47,
   "id": "bc0a4aba-fdd2-493e-8cbe-e804b3876763",
   "metadata": {},
   "outputs": [],
   "source": [
    "# based on colin raffel's blog post\n",
    "# learn XOR with a nn\n",
    "# single hidden layer, 3 neurons, tanh nonlinearity, cross-ent loss w/ sgd\n",
    "\n",
    "# for the output of the net\n",
    "def sigmoid(x):\n",
    "    return 1 / (1 + jnp.exp(-x))\n",
    "\n",
    "def net(params, x):\n",
    "    w1, b1, w2, b2 = params\n",
    "    hidden = jnp.tanh(jnp.dot(w1, x) + b1)\n",
    "    return sigmoid(jnp.dot(w2, hidden) + b2)\n",
    "\n",
    "def ce_loss(params, x, y):\n",
    "    y_hat = net(params, x)\n",
    "    cross_entropy = -y*jnp.log(y_hat) - (1 - y)*jnp.log(1 - y_hat)\n",
    "    return cross_entropy\n",
    "\n",
    "def test_all_inputs(inputs, params):\n",
    "    # threshold the output since it is a probability and we want a class (0 or 1)\n",
    "    preds = [int(net(params, inp) > 0.5) for inp in inputs]\n",
    "    for inp, out in zip(inputs, preds):\n",
    "        print(inp, '->', out)\n",
    "    return (preds == [np.bitwise_xor(*inp) for inp in inputs])"
   ]
  },
  {
   "cell_type": "code",
   "execution_count": 48,
   "id": "8bd4c56f-68b8-4d52-9d10-f0a64bcf912e",
   "metadata": {},
   "outputs": [],
   "source": [
    "inputs = jnp.array([[0, 0], [0, 1], [1, 0], [1, 1]])\n",
    "# when init params, do it randomly before training -> no need for jax (no compiliation or derivatives)\n",
    "def init_params():\n",
    "    return [\n",
    "        np.random.randn(3, 2),   #w1\n",
    "        np.random.randn(3),      #b1\n",
    "        np.random.randn(3),      #w2\n",
    "        np.random.randn(),       #b2\n",
    "    ]"
   ]
  },
  {
   "cell_type": "code",
   "execution_count": 49,
   "id": "1937532c-0acb-46be-9fe9-5ce44dfaf0b7",
   "metadata": {},
   "outputs": [
    {
     "name": "stdout",
     "output_type": "stream",
     "text": [
      "[0 0] -> 1\n",
      "[0 1] -> 1\n",
      "[1 0] -> 1\n",
      "[1 1] -> 1\n"
     ]
    }
   ],
   "source": [
    "y = test_all_inputs(inputs, init_params())"
   ]
  },
  {
   "cell_type": "code",
   "execution_count": 50,
   "id": "2b0706b9-4477-488c-93df-e1ce5f1b1c8a",
   "metadata": {},
   "outputs": [
    {
     "name": "stdout",
     "output_type": "stream",
     "text": [
      "iter 0\n",
      "[0 0] -> 0\n",
      "[0 1] -> 0\n",
      "[1 0] -> 1\n",
      "[1 1] -> 1\n",
      "iter 100\n",
      "[0 0] -> 0\n",
      "[0 1] -> 1\n",
      "[1 0] -> 1\n",
      "[1 1] -> 1\n",
      "iter 200\n",
      "[0 0] -> 0\n",
      "[0 1] -> 0\n",
      "[1 0] -> 1\n",
      "[1 1] -> 0\n",
      "iter 300\n",
      "[0 0] -> 0\n",
      "[0 1] -> 1\n",
      "[1 0] -> 1\n",
      "[1 1] -> 0\n"
     ]
    }
   ],
   "source": [
    "# train: jax.grad takes a fn and returns new fn that takes grad of \n",
    "# orig fn wrt 1st arg (use argnums to change)\n",
    "loss_grad = jax.grad(ce_loss)\n",
    "\n",
    "# sgd lr\n",
    "lr = 1.\n",
    "\n",
    "params = init_params()\n",
    "\n",
    "for n in itertools.count():\n",
    "    # get single random input (pick a random row)\n",
    "    x = inputs[np.random.choice(inputs.shape[0])]\n",
    "    # compute target output\n",
    "    y = np.bitwise_xor(*x)\n",
    "    # get grad of loss\n",
    "    grads = loss_grad(params, x, y)\n",
    "    # update params with grad descent\n",
    "    params = [param - lr * grad for param, grad in zip(params, grads)]\n",
    "    # check every 100 iter if XOR works\n",
    "    if n % 100 == 0:\n",
    "        print(f'iter {n}')\n",
    "        if test_all_inputs(inputs, params):\n",
    "            break\n",
    "               "
   ]
  },
  {
   "cell_type": "code",
   "execution_count": 51,
   "id": "8168b292-1e50-4c7a-b996-845872beda95",
   "metadata": {},
   "outputs": [
    {
     "name": "stdout",
     "output_type": "stream",
     "text": [
      "3.98 ms ± 40.3 μs per loop (mean ± std. dev. of 7 runs, 100 loops each)\n"
     ]
    }
   ],
   "source": [
    "# jax.jit\n",
    "# time orig grad fn\n",
    "%timeit loss_grad(params, x, y)"
   ]
  },
  {
   "cell_type": "code",
   "execution_count": 53,
   "id": "8dcccfff-50b4-43fe-a054-8e0bb53b0cbb",
   "metadata": {},
   "outputs": [
    {
     "name": "stdout",
     "output_type": "stream",
     "text": [
      "5.01 μs ± 9.55 ns per loop (mean ± std. dev. of 7 runs, 100,000 loops each)\n"
     ]
    }
   ],
   "source": [
    "loss_grad = jax.jit(jax.grad(ce_loss))\n",
    "\n",
    "# run once to trigger jit comp\n",
    "loss_grad(params, x, y)\n",
    "%timeit loss_grad(params, x, y)"
   ]
  },
  {
   "cell_type": "code",
   "execution_count": 55,
   "id": "894b9d83-fd4e-47e1-95c2-03318cf025c2",
   "metadata": {},
   "outputs": [
    {
     "name": "stdout",
     "output_type": "stream",
     "text": [
      "iter 0\n",
      "[0 0] -> 1\n",
      "[0 1] -> 1\n",
      "[1 0] -> 1\n",
      "[1 1] -> 1\n",
      "iter 100\n",
      "[0 0] -> 0\n",
      "[0 1] -> 0\n",
      "[1 0] -> 0\n",
      "[1 1] -> 0\n",
      "iter 200\n",
      "[0 0] -> 0\n",
      "[0 1] -> 1\n",
      "[1 0] -> 1\n",
      "[1 1] -> 0\n"
     ]
    }
   ],
   "source": [
    "# train using jit\n",
    "params = init_params()\n",
    "\n",
    "for n in itertools.count():\n",
    "    x = inputs[np.random.choice(inputs.shape[0])]\n",
    "    y = np.bitwise_xor(*x)\n",
    "    grads = loss_grad(params, x, y)\n",
    "    params = [param - grad * lr for grad, param in zip(grads, params)]\n",
    "\n",
    "    if n % 100 == 0:\n",
    "        print(f'iter {n}')\n",
    "        if test_all_inputs(inputs, params):\n",
    "            break"
   ]
  },
  {
   "cell_type": "code",
   "execution_count": null,
   "id": "7f4ab3ed-3341-4c39-8512-6a9d9fcf9e0a",
   "metadata": {},
   "outputs": [],
   "source": [
    "# jax.vmap\n"
   ]
  }
 ],
 "metadata": {
  "kernelspec": {
   "display_name": "Python 3 (ipykernel)",
   "language": "python",
   "name": "python3"
  },
  "language_info": {
   "codemirror_mode": {
    "name": "ipython",
    "version": 3
   },
   "file_extension": ".py",
   "mimetype": "text/x-python",
   "name": "python",
   "nbconvert_exporter": "python",
   "pygments_lexer": "ipython3",
   "version": "3.10.10"
  }
 },
 "nbformat": 4,
 "nbformat_minor": 5
}
