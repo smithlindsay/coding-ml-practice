{
 "cells": [
  {
   "cell_type": "code",
   "execution_count": 1,
   "id": "7b9ee903-55ea-421b-89bf-c8020ad2d9bd",
   "metadata": {},
   "outputs": [],
   "source": [
    "import numpy as np\n",
    "import torch\n",
    "import torch.nn as nn"
   ]
  },
  {
   "cell_type": "code",
   "execution_count": 2,
   "id": "827f3ab0-efd1-4a6f-8a99-f1869b0fffe9",
   "metadata": {},
   "outputs": [],
   "source": [
    "# linear probe example\n",
    "class LinearProbe(nn.Module):\n",
    "    def __init__(self, d_in, d_out):\n",
    "        super().__init__()\n",
    "        self.linear = nn.Linear(d_in, d_out)\n",
    "        \n",
    "    def forward(self, x):\n",
    "        return self.linear(x)"
   ]
  },
  {
   "cell_type": "code",
   "execution_count": null,
   "id": "0d4e9dbf-91f1-4df8-b20e-c7335973d30f",
   "metadata": {},
   "outputs": [],
   "source": [
    "criterion"
   ]
  }
 ],
 "metadata": {
  "kernelspec": {
   "display_name": "Python 3 (ipykernel)",
   "language": "python",
   "name": "python3"
  },
  "language_info": {
   "codemirror_mode": {
    "name": "ipython",
    "version": 3
   },
   "file_extension": ".py",
   "mimetype": "text/x-python",
   "name": "python",
   "nbconvert_exporter": "python",
   "pygments_lexer": "ipython3",
   "version": "3.10.10"
  }
 },
 "nbformat": 4,
 "nbformat_minor": 5
}
