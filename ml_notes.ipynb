{
 "cells": [
  {
   "cell_type": "markdown",
   "id": "56bbee13-152c-4180-89e2-0073c09f6df2",
   "metadata": {},
   "source": [
    "ML notes\n",
    "\n",
    "Regression: predicts continuous values\n",
    "\n",
    "Ex: probability something will happen, value of something\n",
    "\n",
    "\n",
    "Classification: predicts discrete values\n",
    "\n",
    "Ex: dog vs. cat"
   ]
  },
  {
   "cell_type": "markdown",
   "id": "79ec710d-3fd9-461d-b853-bc31c93d3327",
   "metadata": {},
   "source": [
    "linear regression:\n",
    "\n",
    "$y = mx + b$\n",
    "\n",
    "In ml usually written:\n",
    "\n",
    "$y’ = b + w_1x_1$\n",
    "\n",
    "could have multiple $w_ix_i$ added"
   ]
  },
  {
   "cell_type": "markdown",
   "id": "12872abe-728b-4098-94fb-52c29d667ee7",
   "metadata": {},
   "source": [
    "empirical risk minimization: supervised learning - find a model that minimizes loss\n",
    "\n",
    "loss = penalty for bad prediction\n",
    "\n",
    "perfect pred - loss = 0; else loss is greater"
   ]
  },
  {
   "cell_type": "markdown",
   "id": "710a32a7-588b-493a-915c-ef239002f6a9",
   "metadata": {},
   "source": [
    "L2 (or squared) loss:\n",
    "\n",
    "(observation - prediction(x))**2"
   ]
  },
  {
   "cell_type": "code",
   "execution_count": null,
   "id": "462fe28e-7c38-4d46-b9fc-5b028f0b06ed",
   "metadata": {},
   "outputs": [],
   "source": [
    "loss = (y - y_prime)**2"
   ]
  },
  {
   "cell_type": "markdown",
   "id": "253ec618-551a-4cb8-a9b6-5a2e6cdf6824",
   "metadata": {},
   "source": [
    "MSE (mean squared error/loss):\n",
    "\n",
    "avg squared loss per example over whole dataset"
   ]
  },
  {
   "cell_type": "markdown",
   "id": "f3281774-8d35-4300-970e-9dfdf9441a44",
   "metadata": {},
   "source": [
    "$MSE = \\frac{1}{N} \\sum_\\limits{x, y \\in dataset} (y - pred(x))^2$"
   ]
  },
  {
   "cell_type": "markdown",
   "id": "d24d95cf-d5b1-46ea-8ad9-42a51f7372d4",
   "metadata": {},
   "source": [
    "learning rate (step size) = scalar multiplied by gradient to determine next point\n",
    "\n",
    "if too small, takes forever; if too big, bounces around the minimum in loss landscape\n",
    "\n",
    "the flatter the loss fn is, the larger lr you can use (since the gradient is small)\n",
    "\n",
    "ideal lr in 1D = $\\frac{1}{f''(x)}$\n",
    "\n",
    "ideal lr for 2 or more dim = the inverse of the hessian (mtx of second partial derivatives)"
   ]
  },
  {
   "cell_type": "markdown",
   "id": "8aa81f18-1a04-4eb3-927f-97201d35bfe7",
   "metadata": {},
   "source": [
    "SGD: uses single example (batch size = 1) per iteration\n",
    "\n",
    "mini-batch SGD: uses minibatches of size 10 - 1000 examples chosen at random usually"
   ]
  },
  {
   "cell_type": "markdown",
   "id": "ad75e5a2-b88c-43d2-b370-e7bb8c57fe27",
   "metadata": {},
   "source": [
    "iid = independently and identically\n",
    "\n",
    "draw examples iid at random from distribution -- examples dont influence each other\n",
    "\n",
    "theoretically, to have guaranteed model generalization, need:\n",
    "1. iid examples\n",
    "2. stationary distribution (doesn't change w/in dataset)\n",
    "3. draw examples from partitions from same distribution"
   ]
  },
  {
   "cell_type": "markdown",
   "id": "6539be7d-479a-4a68-8d9f-8d3c72b8f5ed",
   "metadata": {},
   "source": [
    "slice data into train, val, test\n",
    "\n",
    "train on train, eval on val and tweak model according to results on val, then pick model that does best on val, then test final model on test"
   ]
  },
  {
   "cell_type": "markdown",
   "id": "86895f58-04a3-4ed3-ae37-8808be03f552",
   "metadata": {},
   "source": [
    "can do one-hot encoding for things like strings, etc that don't correspond to float features for your input (x) data\n",
    "\n",
    "length of vector is num of things want to encode, element in vector is 1 if it corresponds to the feature, 0 otherwise\n",
    "\n",
    "can use a sparse representation of this if there is a lot of data to encoden (stores the positions/indices of non zero elems)"
   ]
  },
  {
   "cell_type": "code",
   "execution_count": null,
   "id": "5ddc6aa0-a5d8-4b74-a082-a2b3dc6d2633",
   "metadata": {},
   "outputs": [],
   "source": []
  }
 ],
 "metadata": {
  "kernelspec": {
   "display_name": "Python 3 (ipykernel)",
   "language": "python",
   "name": "python3"
  },
  "language_info": {
   "codemirror_mode": {
    "name": "ipython",
    "version": 3
   },
   "file_extension": ".py",
   "mimetype": "text/x-python",
   "name": "python",
   "nbconvert_exporter": "python",
   "pygments_lexer": "ipython3",
   "version": "3.10.10"
  }
 },
 "nbformat": 4,
 "nbformat_minor": 5
}
